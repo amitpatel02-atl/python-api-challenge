{
 "cells": [
  {
   "cell_type": "markdown",
   "metadata": {},
   "source": [
    "# WeatherPy\n",
    "----\n",
    "\n",
    "#### Note\n",
    "* Instructions have been included for each segment. You do not have to follow them exactly, but they are included to help you think through the steps."
   ]
  },
  {
   "cell_type": "code",
   "execution_count": 1,
   "metadata": {
    "scrolled": true
   },
   "outputs": [],
   "source": [
    "# Dependencies and Setup\n",
    "import matplotlib.pyplot as plt\n",
    "import pandas as pd\n",
    "import numpy as np\n",
    "import requests\n",
    "import time\n",
    "from scipy.stats import linregress\n",
    "from scipy import stats\n",
    "from pprint import pprint\n",
    "\n",
    "# Import API key\n",
    "from api_keys import weather_api_key\n",
    "\n",
    "# Incorporated citipy to determine city based on latitude and longitude\n",
    "from citipy import citipy\n",
    "\n",
    "# Output File (CSV)\n",
    "output_data_file = \"output_data/cities.csv\"\n",
    "\n",
    "# Range of latitudes and longitudes\n",
    "lat_range = (-90, 90)\n",
    "lng_range = (-180, 180)"
   ]
  },
  {
   "cell_type": "markdown",
   "metadata": {},
   "source": [
    "# Generate Cities List"
   ]
  },
  {
   "cell_type": "code",
   "execution_count": 2,
   "metadata": {},
   "outputs": [
    {
     "data": {
      "text/plain": [
       "597"
      ]
     },
     "execution_count": 2,
     "metadata": {},
     "output_type": "execute_result"
    }
   ],
   "source": [
    "# List for holding lat_lngs and cities\n",
    "lat_lngs = []\n",
    "cities = []\n",
    "\n",
    "# Create a set of random lat and lng combinations\n",
    "lats = np.random.uniform(low=-90.000, high=90.000, size=1500)\n",
    "lngs = np.random.uniform(low=-180.000, high=180.000, size=1500)\n",
    "lat_lngs = zip(lats, lngs)\n",
    "\n",
    "# Identify nearest city for each lat, lng combination\n",
    "for lat_lng in lat_lngs:\n",
    "    city = citipy.nearest_city(lat_lng[0], lat_lng[1]).city_name\n",
    "    \n",
    "    # If the city is unique, then add it to a our cities list\n",
    "    if city not in cities:\n",
    "        cities.append(city)\n",
    "\n",
    "# Print the city count to confirm sufficient count\n",
    "len(cities)"
   ]
  },
  {
   "cell_type": "markdown",
   "metadata": {},
   "source": [
    "### Perform API Calls\n",
    "* Perform a weather check on each city using a series of successive API calls.\n",
    "* Include a print log of each city as it'sbeing processed (with the city number and city name).\n"
   ]
  },
  {
   "cell_type": "code",
   "execution_count": 3,
   "metadata": {},
   "outputs": [
    {
     "data": {
      "text/plain": [
       "{'coord': {'lon': -0.13, 'lat': 51.51},\n",
       " 'weather': [{'id': 800,\n",
       "   'main': 'Clear',\n",
       "   'description': 'clear sky',\n",
       "   'icon': '01n'}],\n",
       " 'base': 'stations',\n",
       " 'main': {'temp': 56.41,\n",
       "  'feels_like': 48.99,\n",
       "  'temp_min': 55,\n",
       "  'temp_max': 57.99,\n",
       "  'pressure': 1017,\n",
       "  'humidity': 47},\n",
       " 'visibility': 10000,\n",
       " 'wind': {'speed': 8.05, 'deg': 60},\n",
       " 'clouds': {'all': 6},\n",
       " 'dt': 1587500652,\n",
       " 'sys': {'type': 1,\n",
       "  'id': 1414,\n",
       "  'country': 'GB',\n",
       "  'sunrise': 1587444670,\n",
       "  'sunset': 1587496005},\n",
       " 'timezone': 3600,\n",
       " 'id': 2643743,\n",
       " 'name': 'London',\n",
       " 'cod': 200}"
      ]
     },
     "execution_count": 3,
     "metadata": {},
     "output_type": "execute_result"
    }
   ],
   "source": [
    "# Displaying URL from openweather\n",
    "url = \"http://api.openweathermap.org/data/2.5/weather?\"\n",
    "units = \"imperial\"\n",
    "query_url = f\"{url}appid={weather_api_key}&units={units}&q=\"\n",
    "response = requests.get(query_url + \"London\").json()\n",
    "response"
   ]
  },
  {
   "cell_type": "code",
   "execution_count": 16,
   "metadata": {},
   "outputs": [
    {
     "name": "stdout",
     "output_type": "stream",
     "text": [
      "1 rikitea\n",
      "2 punta arenas\n",
      "3 sur\n",
      "4 alofi\n",
      "5 weiden\n",
      "6 ushuaia\n",
      "7 abha\n",
      "8 butaritari\n",
      "9 arraial do cabo\n",
      "10 avarua\n",
      "11 albany\n",
      "12 bluff\n",
      "13 mataura\n",
      "14 beringovskiy\n",
      "15 dicabisagan\n",
      "City not found\n",
      "17 santiago\n",
      "18 tasiilaq\n",
      "City not found\n",
      "20 nome\n",
      "21 bengkulu\n",
      "22 yakima\n",
      "23 iquique\n",
      "24 omihachiman\n",
      "25 port keats\n",
      "26 kaohsiung\n",
      "27 hobart\n",
      "28 ola\n",
      "29 busselton\n",
      "30 asilah\n",
      "31 east london\n",
      "City not found\n",
      "City not found\n",
      "34 victoria\n",
      "35 barao de melgaco\n",
      "36 san patricio\n",
      "37 araouane\n",
      "38 alice springs\n",
      "39 kununurra\n",
      "40 lasa\n",
      "41 namibe\n",
      "42 chuy\n",
      "43 puerto ayora\n",
      "44 bredasdorp\n",
      "45 wakkanai\n",
      "46 torbay\n",
      "47 rio grande\n",
      "48 ossora\n",
      "49 provideniya\n",
      "50 vaini\n",
      "City not found\n",
      "52 ipixuna\n",
      "City not found\n",
      "54 tuktoyaktuk\n",
      "55 evensk\n",
      "56 barsovo\n",
      "57 tres arroyos\n",
      "58 thompson\n",
      "59 jumla\n",
      "60 dullewala\n",
      "61 hilo\n",
      "62 sainte-marie\n",
      "63 ribeira grande\n",
      "64 yantarnyy\n",
      "65 lysyye gory\n",
      "City not found\n",
      "67 nanortalik\n",
      "68 port augusta\n",
      "69 brae\n",
      "70 nemuro\n",
      "71 nogliki\n",
      "72 ancud\n",
      "73 george\n",
      "74 broken hill\n",
      "75 atuona\n",
      "76 sitka\n",
      "77 kapaa\n",
      "78 saskylakh\n",
      "79 ocampo\n",
      "80 yellowknife\n",
      "81 upernavik\n",
      "82 champasak\n",
      "83 yichang\n",
      "84 anadyr\n",
      "85 westport\n",
      "86 salalah\n",
      "87 nikolskoye\n",
      "88 abja-paluoja\n",
      "89 shu\n",
      "90 portland\n",
      "91 bethel\n",
      "92 cape town\n",
      "93 lewiston\n",
      "94 zachary\n",
      "95 cidreira\n",
      "City not found\n",
      "97 aksu\n",
      "City not found\n",
      "99 marienburg\n",
      "100 barabai\n",
      "101 tibiri\n",
      "102 talnakh\n",
      "103 coquimbo\n",
      "104 hamilton\n",
      "105 agadez\n",
      "City not found\n",
      "107 reynosa\n",
      "108 katsuura\n",
      "109 hobyo\n",
      "110 miri\n",
      "111 lebu\n",
      "112 hithadhoo\n",
      "113 matamoros\n",
      "114 noumea\n",
      "115 awjilah\n",
      "116 adrar\n",
      "117 saint-philippe\n",
      "118 chokurdakh\n",
      "119 wellington\n",
      "120 micheweni\n",
      "121 deneysville\n",
      "122 kodiak\n",
      "123 salmas\n",
      "124 leningradskiy\n",
      "125 guanica\n",
      "126 dargaville\n",
      "127 ulagan\n",
      "128 nanning\n",
      "129 castro\n",
      "130 bud\n",
      "131 jamestown\n",
      "132 coihaique\n",
      "133 necochea\n",
      "134 bilma\n",
      "135 mar del plata\n",
      "136 san ramon\n",
      "137 bolshaya glushitsa\n",
      "138 port elizabeth\n",
      "139 urusha\n",
      "140 marawi\n",
      "141 saint-joseph\n",
      "142 sibu\n",
      "143 padang\n",
      "144 rutana\n",
      "145 stabat\n",
      "146 cloquet\n",
      "147 joshimath\n",
      "148 tuatapere\n",
      "149 kaitangata\n",
      "150 kavieng\n",
      "151 tiksi\n",
      "152 geraldton\n",
      "153 qaanaaq\n",
      "154 seoul\n",
      "City not found\n",
      "156 hohhot\n",
      "157 bambous virieux\n",
      "City not found\n",
      "159 north bend\n",
      "160 tommot\n",
      "161 port alfred\n",
      "162 kushiro\n",
      "163 san policarpo\n",
      "164 constitucion\n",
      "165 narsaq\n",
      "166 along\n",
      "167 fortuna\n",
      "168 wamba\n",
      "169 hofn\n",
      "170 georgetown\n",
      "171 san quintin\n",
      "172 bathsheba\n",
      "173 abong mbang\n",
      "174 maragogi\n",
      "175 high level\n",
      "176 kargil\n",
      "177 airai\n",
      "178 muromtsevo\n",
      "179 hermanus\n",
      "180 new norfolk\n",
      "181 khatanga\n",
      "182 savannah bight\n",
      "183 cedar city\n",
      "184 inhambane\n",
      "185 saint-francois\n",
      "186 port hardy\n",
      "187 castanos\n",
      "188 carnarvon\n",
      "189 quelimane\n",
      "190 praia da vitoria\n",
      "191 dikson\n",
      "192 norman wells\n",
      "City not found\n",
      "194 qasigiannguit\n",
      "195 kayes\n",
      "196 boyuibe\n",
      "197 walvis bay\n",
      "198 suntar\n",
      "City not found\n",
      "200 pokrovsk\n",
      "201 hasaki\n",
      "202 makakilo city\n",
      "203 biak\n",
      "204 rocha\n",
      "205 peniche\n",
      "206 antofagasta\n",
      "207 ponta do sol\n",
      "208 jiaozuo\n",
      "209 sorland\n",
      "210 karratha\n",
      "City not found\n",
      "212 oussouye\n",
      "213 sao joao do piaui\n",
      "214 kangaatsiaq\n",
      "215 santa maria\n",
      "216 barrow\n",
      "217 vostok\n",
      "218 tigil\n",
      "219 ixtapa\n",
      "220 cockburn town\n",
      "221 nelson bay\n",
      "222 sao filipe\n",
      "223 bonavista\n",
      "224 store heddinge\n",
      "225 yatou\n",
      "226 asadabad\n",
      "227 monroe\n",
      "228 kahului\n",
      "229 stokmarknes\n",
      "230 kortkeros\n",
      "231 altay\n",
      "232 pisco\n",
      "233 pangai\n",
      "234 sarandi\n",
      "235 oistins\n",
      "236 natalio\n",
      "237 linhares\n",
      "238 san ramon de la nueva oran\n",
      "239 roald\n",
      "240 klamath falls\n",
      "241 kayerkan\n",
      "242 kruisfontein\n",
      "243 kasongo-lunda\n",
      "244 la ronge\n",
      "245 margherita\n",
      "246 bowen\n",
      "247 cherskiy\n",
      "248 salinopolis\n",
      "249 trofors\n",
      "City not found\n",
      "251 seymchan\n",
      "252 poum\n",
      "253 timra\n",
      "254 kearney\n",
      "255 nong khai\n",
      "256 springdale\n",
      "257 laguna\n",
      "City not found\n",
      "259 husavik\n",
      "City not found\n",
      "261 itoman\n",
      "262 novo aripuana\n",
      "263 adre\n",
      "264 alugan\n",
      "265 baykit\n",
      "266 achacachi\n",
      "267 soyo\n",
      "268 jiuquan\n",
      "269 vestmannaeyjar\n",
      "270 yamada\n",
      "City not found\n",
      "272 hovd\n",
      "273 ayan\n",
      "274 lata\n",
      "275 farmington\n",
      "276 mokokchung\n",
      "277 tilichiki\n",
      "278 aras\n",
      "279 lagoa\n",
      "280 skovorodino\n",
      "281 chaihe\n",
      "282 fuerte olimpo\n",
      "283 kathmandu\n",
      "284 broome\n",
      "285 skjervoy\n",
      "286 paraiso\n",
      "287 pevek\n",
      "288 trapani\n",
      "289 waddan\n",
      "290 longyearbyen\n",
      "291 ilulissat\n",
      "292 sinop\n",
      "293 port hedland\n",
      "294 ahipara\n",
      "295 khuzdar\n",
      "296 iqaluit\n",
      "297 straumen\n",
      "298 gayny\n",
      "299 severomuysk\n",
      "300 glendive\n",
      "301 finschhafen\n",
      "302 lorengau\n",
      "303 andilamena\n",
      "304 udachnyy\n",
      "305 praia\n",
      "306 lavrentiya\n",
      "City not found\n",
      "308 gamba\n",
      "309 palmer\n",
      "310 leirvik\n",
      "311 port blair\n",
      "City not found\n",
      "313 yenagoa\n",
      "314 palmas\n",
      "315 emerald\n",
      "316 cocorit\n",
      "317 kavaratti\n",
      "318 puerto el triunfo\n",
      "319 sakakah\n",
      "320 akdepe\n",
      "321 camana\n",
      "322 arroyo\n",
      "323 makariv\n",
      "324 berdigestyakh\n",
      "325 kudahuvadhoo\n",
      "326 jamtara\n",
      "327 porto novo\n",
      "328 urengoy\n",
      "329 buchanan\n",
      "330 panaba\n",
      "331 loncoche\n",
      "332 nabire\n",
      "333 the valley\n",
      "City not found\n",
      "335 chabahar\n",
      "336 pangody\n",
      "337 kamenka\n",
      "338 antalaha\n",
      "339 annau\n",
      "340 sobolevo\n",
      "341 severo-kurilsk\n",
      "342 nenjiang\n",
      "343 shimoda\n",
      "344 krasnoarmeysk\n",
      "345 mayo\n",
      "346 siverek\n",
      "347 urumqi\n",
      "348 tara\n",
      "349 olafsvik\n",
      "350 tadine\n",
      "351 talara\n",
      "352 kaeo\n",
      "353 gumdag\n",
      "354 mbour\n",
      "355 varkaus\n",
      "356 dingle\n",
      "357 pauini\n",
      "358 hirara\n",
      "City not found\n",
      "360 ulaanbaatar\n",
      "361 flin flon\n",
      "362 ugoofaaru\n",
      "363 mastic beach\n",
      "364 nuuk\n",
      "365 saint anthony\n",
      "City not found\n",
      "367 edirne\n",
      "368 gladstone\n",
      "369 jalu\n",
      "370 manhattan\n",
      "371 galle\n",
      "372 cornwall\n",
      "373 esperance\n",
      "374 bandarbeyla\n",
      "375 sioux lookout\n",
      "376 mackay\n",
      "377 cayenne\n",
      "378 san luis\n",
      "City not found\n",
      "380 deputatskiy\n",
      "381 tamale\n",
      "382 paducah\n",
      "383 kharp\n",
      "384 batagay\n",
      "385 saint-pierre\n",
      "386 yerbogachen\n",
      "387 itaporanga\n",
      "388 sisimiut\n",
      "389 seydi\n",
      "390 calvinia\n",
      "391 ponferrada\n",
      "392 rancho palos verdes\n",
      "393 arman\n",
      "394 te anau\n",
      "City not found\n",
      "396 batagay-alyta\n",
      "City not found\n",
      "398 fort nelson\n",
      "399 shenjiamen\n",
      "400 nantucket\n",
      "401 usinsk\n",
      "402 qaqortoq\n",
      "403 lewistown\n",
      "404 muscat\n",
      "405 saldanha\n",
      "406 gat\n",
      "407 songling\n",
      "408 ilhabela\n",
      "409 port-cartier\n",
      "410 tabas\n",
      "411 martapura\n",
      "412 klaksvik\n",
      "413 businga\n",
      "414 sumbe\n",
      "415 baruun-urt\n",
      "416 yulara\n",
      "417 pilar\n",
      "418 san cristobal\n",
      "419 batemans bay\n",
      "420 isangel\n",
      "City not found\n",
      "422 olga\n",
      "423 kaihua\n",
      "424 macas\n",
      "425 avera\n",
      "426 biscarrosse\n",
      "427 sovetskiy\n",
      "428 henties bay\n",
      "429 khandyga\n",
      "430 dera ghazi khan\n",
      "431 slave lake\n",
      "432 sassandra\n",
      "433 barcelona\n",
      "City not found\n",
      "435 harsin\n",
      "436 manta\n",
      "437 souillac\n",
      "438 dubbo\n",
      "439 itarema\n",
      "440 goderich\n",
      "441 asau\n",
      "City not found\n",
      "443 opuwo\n",
      "444 machali\n",
      "445 zambezi\n",
      "446 komsomolskiy\n",
      "447 panama city\n",
      "448 yar-sale\n",
      "449 bealanana\n",
      "450 ostrovnoy\n",
      "451 vila velha\n",
      "452 rio gallegos\n",
      "453 cherkasskoye\n",
      "454 inuvik\n",
      "455 bari\n",
      "456 baft\n",
      "457 mahebourg\n",
      "458 faanui\n",
      "459 ibirataia\n",
      "City not found\n",
      "City not found\n",
      "462 catarman\n",
      "463 porto belo\n",
      "464 ukiah\n",
      "465 petropavlovsk-kamchatskiy\n",
      "City not found\n",
      "467 calama\n",
      "468 hambantota\n",
      "469 takaka\n",
      "470 gouyave\n",
      "471 volda\n",
      "472 burgeo\n",
      "City not found\n",
      "City not found\n",
      "475 hong gai\n",
      "476 zhezkazgan\n",
      "477 prince rupert\n",
      "478 diu\n",
      "479 yele\n",
      "480 gunjur\n",
      "481 grindavik\n",
      "482 zaragoza\n",
      "483 san francisco\n",
      "484 irkutsk\n",
      "485 coos bay\n",
      "486 talcahuano\n",
      "487 saint-augustin\n",
      "488 northam\n",
      "489 roma\n",
      "490 alakurtti\n",
      "491 touros\n",
      "492 kalasin\n",
      "City not found\n",
      "494 sept-iles\n",
      "495 moberly\n",
      "496 vilyuysk\n",
      "497 vao\n",
      "498 stornoway\n",
      "499 college\n",
      "500 tiznit\n"
     ]
    }
   ],
   "source": [
    "# Displaying URL from openweather\n",
    "url = \"http://api.openweathermap.org/data/2.5/weather?\"\n",
    "units = \"imperial\"\n",
    "query_url = f\"{url}appid={weather_api_key}&units={units}&q=\"\n",
    "response = requests.get(query_url + \"London\").json()\n",
    "response\n",
    "\n",
    "# Capture city information\n",
    "data = []\n",
    "\n",
    "# set up lists to hold reponse info\n",
    "city_name = []\n",
    "cloudiness_data = []\n",
    "Humidity_data = []\n",
    "Wind_Speed_data = []\n",
    "temp_max_data = []\n",
    "Date_data = []\n",
    "Country_data = []\n",
    "Lat_data = []\n",
    "Long_data = []\n",
    "\n",
    "# Loop through the list of cities and perform a request for data on each\n",
    "  #cloudiness, Humidity, Wind_Speed, temp_max, Date, Country, Lat, Long\n",
    "i = 0\n",
    "for city in cities[:500]:\n",
    "    response = requests.get(query_url + city).json()\n",
    "    i= i + 1\n",
    "    try:\n",
    "        \n",
    "        Cloudiness = response[\"clouds\"][\"all\"]        \n",
    "        Humidity = response[\"main\"][\"humidity\"]      \n",
    "        Wind_Speed = response[\"wind\"][\"speed\"]\n",
    "        temp_max = response[\"main\"][\"temp_max\"]\n",
    "        Date = response[\"dt\"]\n",
    "        Country = response[\"sys\"][\"country\"]\n",
    "        Lat = response[\"coord\"][\"lat\"]\n",
    "        Long = response[\"coord\"][\"lon\"]\n",
    "        \n",
    "        cloudiness_data.append(Cloudiness)\n",
    "        Humidity_data.append(Humidity)\n",
    "        Wind_Speed_data.append(Wind_Speed)\n",
    "        temp_max_data.append(temp_max)\n",
    "        Date_data.append(Date)\n",
    "        Country_data.append(Country)\n",
    "        Lat_data.append(Lat)\n",
    "        Long_data.append(Long)\n",
    "        city_name.append(city)\n",
    "        \n",
    "        #Print the cities name\n",
    "        print(f\"{i} {city}\")\n",
    "        \n",
    "        #Create interval of .2 seconds\n",
    "        time.sleep(.2)\n",
    "   \n",
    "    #If city not found then print error message\n",
    "    except:\n",
    "        print(\"City not found\")"
   ]
  },
  {
   "cell_type": "markdown",
   "metadata": {},
   "source": [
    "### Convert Raw Data to DataFrame\n",
    "* Export the city data into a .csv.\n",
    "* Display the DataFrame"
   ]
  },
  {
   "cell_type": "code",
   "execution_count": 17,
   "metadata": {},
   "outputs": [
    {
     "data": {
      "text/html": [
       "<div>\n",
       "<style scoped>\n",
       "    .dataframe tbody tr th:only-of-type {\n",
       "        vertical-align: middle;\n",
       "    }\n",
       "\n",
       "    .dataframe tbody tr th {\n",
       "        vertical-align: top;\n",
       "    }\n",
       "\n",
       "    .dataframe thead th {\n",
       "        text-align: right;\n",
       "    }\n",
       "</style>\n",
       "<table border=\"1\" class=\"dataframe\">\n",
       "  <thead>\n",
       "    <tr style=\"text-align: right;\">\n",
       "      <th></th>\n",
       "      <th>city</th>\n",
       "      <th>Cloudiness</th>\n",
       "      <th>Humidity</th>\n",
       "      <th>Wind Speed</th>\n",
       "      <th>Temp Max</th>\n",
       "      <th>Date</th>\n",
       "      <th>Country</th>\n",
       "      <th>Latitude</th>\n",
       "      <th>Longitude</th>\n",
       "    </tr>\n",
       "  </thead>\n",
       "  <tbody>\n",
       "    <tr>\n",
       "      <th>0</th>\n",
       "      <td>rikitea</td>\n",
       "      <td>55</td>\n",
       "      <td>73</td>\n",
       "      <td>7.38</td>\n",
       "      <td>77.45</td>\n",
       "      <td>1587507746</td>\n",
       "      <td>PF</td>\n",
       "      <td>-23.12</td>\n",
       "      <td>-134.97</td>\n",
       "    </tr>\n",
       "    <tr>\n",
       "      <th>1</th>\n",
       "      <td>punta arenas</td>\n",
       "      <td>89</td>\n",
       "      <td>53</td>\n",
       "      <td>44.96</td>\n",
       "      <td>50.00</td>\n",
       "      <td>1587507505</td>\n",
       "      <td>CL</td>\n",
       "      <td>-53.15</td>\n",
       "      <td>-70.92</td>\n",
       "    </tr>\n",
       "    <tr>\n",
       "      <th>2</th>\n",
       "      <td>sur</td>\n",
       "      <td>89</td>\n",
       "      <td>39</td>\n",
       "      <td>10.45</td>\n",
       "      <td>87.28</td>\n",
       "      <td>1587507680</td>\n",
       "      <td>OM</td>\n",
       "      <td>22.57</td>\n",
       "      <td>59.53</td>\n",
       "    </tr>\n",
       "    <tr>\n",
       "      <th>3</th>\n",
       "      <td>alofi</td>\n",
       "      <td>75</td>\n",
       "      <td>66</td>\n",
       "      <td>13.87</td>\n",
       "      <td>84.20</td>\n",
       "      <td>1587507747</td>\n",
       "      <td>NU</td>\n",
       "      <td>-19.06</td>\n",
       "      <td>-169.92</td>\n",
       "    </tr>\n",
       "    <tr>\n",
       "      <th>4</th>\n",
       "      <td>weiden</td>\n",
       "      <td>1</td>\n",
       "      <td>43</td>\n",
       "      <td>8.05</td>\n",
       "      <td>50.00</td>\n",
       "      <td>1587507747</td>\n",
       "      <td>DE</td>\n",
       "      <td>49.68</td>\n",
       "      <td>12.16</td>\n",
       "    </tr>\n",
       "  </tbody>\n",
       "</table>\n",
       "</div>"
      ],
      "text/plain": [
       "           city  Cloudiness  Humidity  Wind Speed  Temp Max        Date  \\\n",
       "0       rikitea          55        73        7.38     77.45  1587507746   \n",
       "1  punta arenas          89        53       44.96     50.00  1587507505   \n",
       "2           sur          89        39       10.45     87.28  1587507680   \n",
       "3         alofi          75        66       13.87     84.20  1587507747   \n",
       "4        weiden           1        43        8.05     50.00  1587507747   \n",
       "\n",
       "  Country  Latitude  Longitude  \n",
       "0      PF    -23.12    -134.97  \n",
       "1      CL    -53.15     -70.92  \n",
       "2      OM     22.57      59.53  \n",
       "3      NU    -19.06    -169.92  \n",
       "4      DE     49.68      12.16  "
      ]
     },
     "execution_count": 17,
     "metadata": {},
     "output_type": "execute_result"
    }
   ],
   "source": [
    "# create a data frame from city, cloudiness, humidity, wind speed, max temperature, date, country, latitude, longitude\n",
    "download_data_dict = {\n",
    "    'city' : city_name,\n",
    "    'Cloudiness' : cloudiness_data,\n",
    "    'Humidity': Humidity_data,\n",
    "    'Wind Speed' : Wind_Speed_data,\n",
    "    'Temp Max': temp_max_data,\n",
    "    'Date': Date_data,\n",
    "    'Country': Country_data,\n",
    "    'Latitude': Lat_data,\n",
    "    'Longitude': Long_data}\n",
    "\n",
    "# Create DataFrame\n",
    "download_data = pd.DataFrame(download_data_dict)\n",
    "\n",
    "\n",
    "#Create new csv with export of city\n",
    "download_data.to_csv('Download_weather_data.csv')\n",
    "download_data.head()"
   ]
  },
  {
   "cell_type": "markdown",
   "metadata": {},
   "source": [
    "### Plotting the Data\n",
    "* Use proper labeling of the plots using plot titles (including date of analysis) and axes labels.\n",
    "* Save the plotted figures as .pngs."
   ]
  },
  {
   "cell_type": "markdown",
   "metadata": {},
   "source": [
    "#### Latitude vs. Temperature Plot"
   ]
  },
  {
   "cell_type": "code",
   "execution_count": 18,
   "metadata": {
    "scrolled": true
   },
   "outputs": [
    {
     "data": {
      "image/png": "[encoded data removed]",
      "text/plain": [
       "<Figure size 432x288 with 1 Axes>"
      ]
     },
     "metadata": {
      "needs_background": "light"
     },
     "output_type": "display_data"
    },
    {
     "name": "stdout",
     "output_type": "stream",
     "text": [
      "As the latitude increases the weather starts to increase as well\n"
     ]
    }
   ],
   "source": [
    "# Build a scatter plot for each data type\n",
    "plt.scatter(download_data[\"Temp Max\"], download_data[\"Latitude\"], marker=\"o\", facecolors=\"blue\", edgecolors=\"black\")\n",
    "\n",
    "# Incorporate the other graph properties\n",
    "plt.title(\"City Latitude vs. Max Temperature\")\n",
    "plt.ylabel(\"Temperature (F)\")\n",
    "plt.xlabel(\"Latitude\")\n",
    "plt.grid(True)\n",
    "\n",
    "# Save the figure\n",
    "plt.savefig(\"CityLatitudevs.MaxTemp.png\")\n",
    "\n",
    "# Show plot\n",
    "plt.show()\n",
    "\n",
    "print(f\"As the latitude increases the weather starts to increase as well\")"
   ]
  },
  {
   "cell_type": "markdown",
   "metadata": {},
   "source": [
    "#### Latitude vs. Humidity Plot"
   ]
  },
  {
   "cell_type": "code",
   "execution_count": 19,
   "metadata": {},
   "outputs": [
    {
     "data": {
      "image/png": "[encoded data removed]",
      "text/plain": [
       "<Figure size 432x288 with 1 Axes>"
      ]
     },
     "metadata": {
      "needs_background": "light"
     },
     "output_type": "display_data"
    },
    {
     "name": "stdout",
     "output_type": "stream",
     "text": [
      "Based on latitude from -60 to 80, the humidity percentage tends to increase\n"
     ]
    }
   ],
   "source": [
    "# Build a scatter plot for each data type\n",
    "plt.scatter(download_data[\"Latitude\"], download_data[\"Humidity\"], marker=\"o\", facecolors=\"blue\", edgecolors=\"black\")\n",
    "\n",
    "# Incorporate the other graph properties\n",
    "plt.title(\"City Latitude vs. Humidity\")\n",
    "plt.ylabel(\"Humidity (%)\")\n",
    "plt.xlabel(\"Latitude\")\n",
    "plt.grid(True)\n",
    "\n",
    "# Save the figure\n",
    "plt.savefig(\"CityLatitudevs.Humidity.png\")\n",
    "\n",
    "# Show plot\n",
    "plt.show()\n",
    "\n",
    "print(f\"Based on latitude from -60 to 80, the humidity percentage tends to increase\")"
   ]
  },
  {
   "cell_type": "markdown",
   "metadata": {},
   "source": [
    "#### Latitude vs. Cloudiness Plot"
   ]
  },
  {
   "cell_type": "code",
   "execution_count": 20,
   "metadata": {},
   "outputs": [
    {
     "data": {
      "image/png": "[encoded data removed]",
      "text/plain": [
       "<Figure size 432x288 with 1 Axes>"
      ]
     },
     "metadata": {
      "needs_background": "light"
     },
     "output_type": "display_data"
    },
    {
     "name": "stdout",
     "output_type": "stream",
     "text": [
      "Based on the visualization above, the cloudiness percentage does not actually make a factor with Latitude\n",
      "There is no increse or decrease in cloudiness based in what city you are in\n"
     ]
    }
   ],
   "source": [
    "# Build a scatter plot for each data type\n",
    "plt.scatter(download_data[\"Latitude\"], download_data[\"Cloudiness\"], marker=\"o\", facecolors=\"blue\", edgecolors=\"black\")\n",
    "\n",
    "# Incorporate the other graph properties\n",
    "plt.title(\"City Latitude vs. Cloudiness\")\n",
    "plt.ylabel(\"Cloudiness (%)\")\n",
    "plt.xlabel(\"Latitude\")\n",
    "plt.grid(True)\n",
    "\n",
    "# Save the figure\n",
    "plt.savefig(\"CityLatitudevs.Cloudiness.png\")\n",
    "\n",
    "# Show plot\n",
    "plt.show()\n",
    "\n",
    "print(f\"Based on the visualization above, the cloudiness percentage does not actually make a factor with Latitude\")\n",
    "print(f\"There is no increse or decrease in cloudiness based in what city you are in\")"
   ]
  },
  {
   "cell_type": "markdown",
   "metadata": {},
   "source": [
    "#### Latitude vs. Wind Speed Plot"
   ]
  },
  {
   "cell_type": "code",
   "execution_count": 21,
   "metadata": {},
   "outputs": [
    {
     "data": {
      "image/png": "[encoded data removed]",
      "text/plain": [
       "<Figure size 432x288 with 1 Axes>"
      ]
     },
     "metadata": {
      "needs_background": "light"
     },
     "output_type": "display_data"
    },
    {
     "name": "stdout",
     "output_type": "stream",
     "text": [
      "Based on the visualization above, the wind speed is about the same for all the cities, except a few one\n",
      "Most of the cities wind speed does not get above 20 mph\n"
     ]
    }
   ],
   "source": [
    "# Build a scatter plot for each data type\n",
    "plt.scatter(download_data[\"Latitude\"], download_data[\"Wind Speed\"], marker=\"o\", facecolors=\"blue\", edgecolors=\"black\")\n",
    "\n",
    "# Incorporate the other graph properties\n",
    "plt.title(\"City Latitude vs. Wind Speed\")\n",
    "plt.ylabel(\"Wind Speed (mph)\")\n",
    "plt.xlabel(\"Latitude\")\n",
    "plt.grid(True)\n",
    "\n",
    "# Save the figure\n",
    "plt.savefig(\"CityLatitudevs.WindSpeed.png\")\n",
    "\n",
    "# Show plot\n",
    "plt.show()\n",
    "\n",
    "print(f\"Based on the visualization above, the wind speed is about the same for all the cities, except a few one\")\n",
    "print(f\"Most of the cities wind speed does not get above 20 mph\")"
   ]
  },
  {
   "cell_type": "markdown",
   "metadata": {},
   "source": [
    "## Linear Regression"
   ]
  },
  {
   "cell_type": "code",
   "execution_count": 22,
   "metadata": {},
   "outputs": [
    {
     "data": {
      "text/html": [
       "<div>\n",
       "<style scoped>\n",
       "    .dataframe tbody tr th:only-of-type {\n",
       "        vertical-align: middle;\n",
       "    }\n",
       "\n",
       "    .dataframe tbody tr th {\n",
       "        vertical-align: top;\n",
       "    }\n",
       "\n",
       "    .dataframe thead th {\n",
       "        text-align: right;\n",
       "    }\n",
       "</style>\n",
       "<table border=\"1\" class=\"dataframe\">\n",
       "  <thead>\n",
       "    <tr style=\"text-align: right;\">\n",
       "      <th></th>\n",
       "      <th>city</th>\n",
       "      <th>Cloudiness</th>\n",
       "      <th>Humidity</th>\n",
       "      <th>Wind Speed</th>\n",
       "      <th>Temp Max</th>\n",
       "      <th>Date</th>\n",
       "      <th>Country</th>\n",
       "      <th>Latitude</th>\n",
       "      <th>Longitude</th>\n",
       "    </tr>\n",
       "  </thead>\n",
       "  <tbody>\n",
       "    <tr>\n",
       "      <th>0</th>\n",
       "      <td>rikitea</td>\n",
       "      <td>55</td>\n",
       "      <td>73</td>\n",
       "      <td>7.38</td>\n",
       "      <td>77.45</td>\n",
       "      <td>1587507746</td>\n",
       "      <td>PF</td>\n",
       "      <td>-23.12</td>\n",
       "      <td>-134.97</td>\n",
       "    </tr>\n",
       "    <tr>\n",
       "      <th>1</th>\n",
       "      <td>punta arenas</td>\n",
       "      <td>89</td>\n",
       "      <td>53</td>\n",
       "      <td>44.96</td>\n",
       "      <td>50.00</td>\n",
       "      <td>1587507505</td>\n",
       "      <td>CL</td>\n",
       "      <td>-53.15</td>\n",
       "      <td>-70.92</td>\n",
       "    </tr>\n",
       "    <tr>\n",
       "      <th>2</th>\n",
       "      <td>sur</td>\n",
       "      <td>89</td>\n",
       "      <td>39</td>\n",
       "      <td>10.45</td>\n",
       "      <td>87.28</td>\n",
       "      <td>1587507680</td>\n",
       "      <td>OM</td>\n",
       "      <td>22.57</td>\n",
       "      <td>59.53</td>\n",
       "    </tr>\n",
       "    <tr>\n",
       "      <th>3</th>\n",
       "      <td>alofi</td>\n",
       "      <td>75</td>\n",
       "      <td>66</td>\n",
       "      <td>13.87</td>\n",
       "      <td>84.20</td>\n",
       "      <td>1587507747</td>\n",
       "      <td>NU</td>\n",
       "      <td>-19.06</td>\n",
       "      <td>-169.92</td>\n",
       "    </tr>\n",
       "    <tr>\n",
       "      <th>4</th>\n",
       "      <td>weiden</td>\n",
       "      <td>1</td>\n",
       "      <td>43</td>\n",
       "      <td>8.05</td>\n",
       "      <td>50.00</td>\n",
       "      <td>1587507747</td>\n",
       "      <td>DE</td>\n",
       "      <td>49.68</td>\n",
       "      <td>12.16</td>\n",
       "    </tr>\n",
       "  </tbody>\n",
       "</table>\n",
       "</div>"
      ],
      "text/plain": [
       "           city  Cloudiness  Humidity  Wind Speed  Temp Max        Date  \\\n",
       "0       rikitea          55        73        7.38     77.45  1587507746   \n",
       "1  punta arenas          89        53       44.96     50.00  1587507505   \n",
       "2           sur          89        39       10.45     87.28  1587507680   \n",
       "3         alofi          75        66       13.87     84.20  1587507747   \n",
       "4        weiden           1        43        8.05     50.00  1587507747   \n",
       "\n",
       "  Country  Latitude  Longitude  \n",
       "0      PF    -23.12    -134.97  \n",
       "1      CL    -53.15     -70.92  \n",
       "2      OM     22.57      59.53  \n",
       "3      NU    -19.06    -169.92  \n",
       "4      DE     49.68      12.16  "
      ]
     },
     "execution_count": 22,
     "metadata": {},
     "output_type": "execute_result"
    }
   ],
   "source": [
    "# create a data frame from city, cloudiness, humidity, wind speed, max temperature, date, country, latitude, longitude\n",
    "download_data_dict = {\n",
    "    'city' : city_name,\n",
    "    'Cloudiness' : cloudiness_data,\n",
    "    'Humidity': Humidity_data,\n",
    "    'Wind Speed' : Wind_Speed_data,\n",
    "    'Temp Max': temp_max_data,\n",
    "    'Date': Date_data,\n",
    "    'Country': Country_data,\n",
    "    'Latitude': Lat_data,\n",
    "    'Longitude': Long_data}\n",
    "\n",
    "#Create DataFrame\n",
    "cities_df = pd.DataFrame(download_data_dict)\n",
    "cities_df.head()"
   ]
  },
  {
   "cell_type": "code",
   "execution_count": 23,
   "metadata": {},
   "outputs": [],
   "source": [
    "#Define northern and southern hemispheres\n",
    "northern_hemisphere = cities_df.loc[cities_df[\"Latitude\"] >= 0.0]\n",
    "northern_hemisphere.reset_index(inplace=True)\n",
    "\n",
    "southern_hemisphere = cities_df.loc[cities_df[\"Latitude\"] <=0.0]\n",
    "southern_hemisphere.reset_index(inplace=True)"
   ]
  },
  {
   "cell_type": "markdown",
   "metadata": {},
   "source": [
    "####  Northern Hemisphere - Max Temp vs. Latitude Linear Regression"
   ]
  },
  {
   "cell_type": "code",
   "execution_count": 24,
   "metadata": {
    "scrolled": true
   },
   "outputs": [
    {
     "data": {
      "image/png": "[encoded data removed]",
      "text/plain": [
       "<Figure size 432x288 with 1 Axes>"
      ]
     },
     "metadata": {
      "needs_background": "light"
     },
     "output_type": "display_data"
    }
   ],
   "source": [
    "# Creating a scatter plot and adding linear regression and comparing northern hemisphere Max Temp vs. Latitude\n",
    "x_values = northern_hemisphere['Latitude']\n",
    "y_values = northern_hemisphere['Temp Max']\n",
    "(slope, intercept, rvalue, pvalue, stderr) = linregress(x_values, y_values)\n",
    "regress_values = x_values * slope + intercept\n",
    "line_eq = \"y = \" + str(round(slope,2)) + \"x + \" + str(round(intercept,2))\n",
    "\n",
    "# Incorporate the other graph properties\n",
    "plt.scatter(x_values,y_values, marker=\"o\", facecolors=\"blue\", edgecolors=\"black\")\n",
    "plt.plot(x_values,regress_values,\"r-\")\n",
    "plt.annotate(line_eq,(6,10),fontsize=15,color=\"red\")\n",
    "plt.xlabel('Latitude')\n",
    "plt.ylabel('Max Temp')\n",
    "\n",
    "# Save the figure\n",
    "plt.savefig(\"Maxtempvs.latitude.png\")\n",
    "\n",
    "#Show plo\n",
    "plt.show()\n"
   ]
  },
  {
   "cell_type": "markdown",
   "metadata": {},
   "source": [
    "####  Southern Hemisphere - Max Temp vs. Latitude Linear Regression"
   ]
  },
  {
   "cell_type": "code",
   "execution_count": 25,
   "metadata": {},
   "outputs": [
    {
     "data": {
      "image/png": "[encoded data removed]",
      "text/plain": [
       "<Figure size 432x288 with 1 Axes>"
      ]
     },
     "metadata": {
      "needs_background": "light"
     },
     "output_type": "display_data"
    }
   ],
   "source": [
    "# Creating a scatter plot and adding linear regression and comparing southern hemisphere Max Temp vs. Latitude\n",
    "x_values = southern_hemisphere['Latitude']\n",
    "y_values = southern_hemisphere['Temp Max']\n",
    "\n",
    "# Formula for slope of a line\n",
    "(slope, intercept, rvalue, pvalue, stderr) = linregress(x_values, y_values)\n",
    "regress_values = x_values * slope + intercept\n",
    "line_eq = \"y = \" + str(round(slope,2)) + \"x + \" + str(round(intercept,2))\n",
    "plt.scatter(x_values,y_values, marker=\"o\", facecolors=\"blue\", edgecolors=\"black\")\n",
    "plt.plot(x_values,regress_values,\"r-\")\n",
    "plt.annotate(line_eq,(-25,50),fontsize=15,color=\"red\")\n",
    "plt.xlabel('Latitude')\n",
    "plt.ylabel('Max Temp')\n",
    "\n",
    "# Save the figure\n",
    "plt.savefig(\"southernMaxtempvs.latitude.png\")\n",
    "\n",
    "#Show plot\n",
    "plt.show()"
   ]
  },
  {
   "cell_type": "markdown",
   "metadata": {},
   "source": [
    "####  Northern Hemisphere - Humidity (%) vs. Latitude Linear Regression"
   ]
  },
  {
   "cell_type": "code",
   "execution_count": 26,
   "metadata": {},
   "outputs": [
    {
     "data": {
      "image/png": "[encoded data removed]",
      "text/plain": [
       "<Figure size 432x288 with 1 Axes>"
      ]
     },
     "metadata": {
      "needs_background": "light"
     },
     "output_type": "display_data"
    }
   ],
   "source": [
    "# Creating a scatter plot and adding linear regression and comparing northern hemisphere humidity vs. Latitude\n",
    "x_values = northern_hemisphere['Latitude']\n",
    "y_values = northern_hemisphere['Humidity']\n",
    "(slope, intercept, rvalue, pvalue, stderr) = linregress(x_values, y_values)\n",
    "regress_values = x_values * slope + intercept\n",
    "line_eq = \"y = \" + str(round(slope,2)) + \"x + \" + str(round(intercept,2))\n",
    "plt.scatter(x_values,y_values, marker=\"o\", facecolors=\"blue\", edgecolors=\"black\")\n",
    "plt.plot(x_values,regress_values,\"r-\")\n",
    "plt.annotate(line_eq,(6,10),fontsize=15,color=\"red\")\n",
    "plt.xlabel('Latitude')\n",
    "plt.ylabel('Humidity')\n",
    "\n",
    "# Save the figure\n",
    "plt.savefig(\"Humidityvs.latitude.png\")\n",
    "\n",
    "# Show plot\n",
    "plt.show()"
   ]
  },
  {
   "cell_type": "markdown",
   "metadata": {},
   "source": [
    "####  Southern Hemisphere - Humidity (%) vs. Latitude Linear Regression"
   ]
  },
  {
   "cell_type": "code",
   "execution_count": 27,
   "metadata": {},
   "outputs": [
    {
     "data": {
      "image/png": "[encoded data removed]",
      "text/plain": [
       "<Figure size 432x288 with 1 Axes>"
      ]
     },
     "metadata": {
      "needs_background": "light"
     },
     "output_type": "display_data"
    }
   ],
   "source": [
    "# Creating a scatter plot and adding linear regression and comparing southern hemisphere humidity vs. Latitude\n",
    "x_values = southern_hemisphere['Latitude']\n",
    "y_values = southern_hemisphere['Humidity']\n",
    "(slope, intercept, rvalue, pvalue, stderr) = linregress(x_values, y_values)\n",
    "regress_values = x_values * slope + intercept\n",
    "line_eq = \"y = \" + str(round(slope,2)) + \"x + \" + str(round(intercept,2))\n",
    "plt.scatter(x_values,y_values, marker=\"o\", facecolors=\"blue\", edgecolors=\"black\")\n",
    "plt.plot(x_values,regress_values,\"r-\")\n",
    "plt.annotate(line_eq,(-50,10),fontsize=15,color=\"red\")\n",
    "plt.xlabel('Latitude')\n",
    "plt.ylabel('Humidity')\n",
    "\n",
    "# Save the figure\n",
    "plt.savefig(\"southern humidity vs.latitude.png\")\n",
    "\n",
    "# Show Plot\n",
    "plt.show()"
   ]
  },
  {
   "cell_type": "markdown",
   "metadata": {},
   "source": [
    "####  Northern Hemisphere - Cloudiness (%) vs. Latitude Linear Regression"
   ]
  },
  {
   "cell_type": "code",
   "execution_count": 28,
   "metadata": {},
   "outputs": [
    {
     "data": {
      "image/png": "[encoded data removed]",
      "text/plain": [
       "<Figure size 432x288 with 1 Axes>"
      ]
     },
     "metadata": {
      "needs_background": "light"
     },
     "output_type": "display_data"
    }
   ],
   "source": [
    "# Creating a scatter plot and adding linear regression and comparing northern hemisphere cloudiness vs. Latitude\n",
    "x_values = northern_hemisphere['Latitude']\n",
    "y_values = northern_hemisphere['Cloudiness']\n",
    "(slope, intercept, rvalue, pvalue, stderr) = linregress(x_values, y_values)\n",
    "regress_values = x_values * slope + intercept\n",
    "line_eq = \"y = \" + str(round(slope,2)) + \"x + \" + str(round(intercept,2))\n",
    "plt.scatter(x_values,y_values, marker=\"o\", facecolors=\"blue\", edgecolors=\"black\")\n",
    "plt.plot(x_values,regress_values,\"r-\")\n",
    "plt.annotate(line_eq,(6,10),fontsize=15,color=\"red\")\n",
    "plt.xlabel('Latitude')\n",
    "plt.ylabel('Cloudiness')\n",
    "\n",
    "# Save the figure\n",
    "plt.savefig(\"Cloudiness vs.latitude.png\")\n",
    "\n",
    "# Show plot\n",
    "plt.show()"
   ]
  },
  {
   "cell_type": "markdown",
   "metadata": {},
   "source": [
    "####  Southern Hemisphere - Cloudiness (%) vs. Latitude Linear Regression"
   ]
  },
  {
   "cell_type": "code",
   "execution_count": 29,
   "metadata": {},
   "outputs": [
    {
     "data": {
      "image/png": "[encoded data removed]",
      "text/plain": [
       "<Figure size 432x288 with 1 Axes>"
      ]
     },
     "metadata": {
      "needs_background": "light"
     },
     "output_type": "display_data"
    }
   ],
   "source": [
    "# Creating a scatter plot and adding linear regression and comparing southern cloudiness vs. Latitude\n",
    "x_values = southern_hemisphere['Latitude']\n",
    "y_values = southern_hemisphere['Cloudiness']\n",
    "(slope, intercept, rvalue, pvalue, stderr) = linregress(x_values, y_values)\n",
    "regress_values = x_values * slope + intercept\n",
    "line_eq = \"y = \" + str(round(slope,2)) + \"x + \" + str(round(intercept,2))\n",
    "plt.scatter(x_values,y_values, marker=\"o\", facecolors=\"blue\", edgecolors=\"black\")\n",
    "plt.plot(x_values,regress_values,\"r-\")\n",
    "plt.annotate(line_eq,(-50,10),fontsize=15,color=\"red\")\n",
    "plt.xlabel('Latitude')\n",
    "plt.ylabel('Cloudiness')\n",
    "\n",
    "# Save the figure\n",
    "plt.savefig(\"southern Cloudiness vs.latitude.png\")\n",
    "\n",
    "# Show Plot\n",
    "plt.show()"
   ]
  },
  {
   "cell_type": "markdown",
   "metadata": {},
   "source": [
    "####  Northern Hemisphere - Wind Speed (mph) vs. Latitude Linear Regression"
   ]
  },
  {
   "cell_type": "code",
   "execution_count": 30,
   "metadata": {},
   "outputs": [
    {
     "data": {
      "image/png": "[encoded data removed]",
      "text/plain": [
       "<Figure size 432x288 with 1 Axes>"
      ]
     },
     "metadata": {
      "needs_background": "light"
     },
     "output_type": "display_data"
    }
   ],
   "source": [
    "# Creating a scatter plot and adding linear regression and comparing northern hemisphere Wind Speen vs. Latitude\n",
    "x_values = northern_hemisphere['Latitude']\n",
    "y_values = northern_hemisphere['Wind Speed']\n",
    "(slope, intercept, rvalue, pvalue, stderr) = linregress(x_values, y_values)\n",
    "regress_values = x_values * slope + intercept\n",
    "line_eq = \"y = \" + str(round(slope,2)) + \"x + \" + str(round(intercept,2))\n",
    "plt.scatter(x_values,y_values, marker=\"o\", facecolors=\"blue\", edgecolors=\"black\")\n",
    "plt.plot(x_values,regress_values,\"r-\")\n",
    "plt.annotate(line_eq,(6,10),fontsize=15,color=\"red\")\n",
    "plt.xlabel('Latitude')\n",
    "plt.ylabel('Wind Speed')\n",
    "\n",
    "# Save the figure\n",
    "plt.savefig(\"Wind Speed vs.latitude.png\")\n",
    "\n",
    "# Show plot\n",
    "plt.show()"
   ]
  },
  {
   "cell_type": "markdown",
   "metadata": {},
   "source": [
    "####  Southern Hemisphere - Wind Speed (mph) vs. Latitude Linear Regression"
   ]
  },
  {
   "cell_type": "code",
   "execution_count": 31,
   "metadata": {},
   "outputs": [
    {
     "data": {
      "image/png": "[encoded data removed]",
      "text/plain": [
       "<Figure size 432x288 with 1 Axes>"
      ]
     },
     "metadata": {
      "needs_background": "light"
     },
     "output_type": "display_data"
    }
   ],
   "source": [
    "# Creating a scatter plot and adding linear regression and comparing southern hemisphere Wind Speed vs. Latitude\n",
    "x_values = southern_hemisphere['Latitude']\n",
    "y_values = southern_hemisphere['Wind Speed']\n",
    "(slope, intercept, rvalue, pvalue, stderr) = linregress(x_values, y_values)\n",
    "regress_values = x_values * slope + intercept\n",
    "line_eq = \"y = \" + str(round(slope,2)) + \"x + \" + str(round(intercept,2))\n",
    "plt.scatter(x_values,y_values, marker=\"o\", facecolors=\"blue\", edgecolors=\"black\")\n",
    "plt.plot(x_values,regress_values,\"r-\")\n",
    "plt.annotate(line_eq,(-50,10),fontsize=15,color=\"red\")\n",
    "plt.xlabel('Latitude')\n",
    "plt.ylabel('Wind Speed')\n",
    "\n",
    "# Save the figure\n",
    "plt.savefig(\"southern Wind Speed vs.latitude.png\")\n",
    "\n",
    "# Show plot\n",
    "plt.show()"
   ]
  },
  {
   "cell_type": "code",
   "execution_count": null,
   "metadata": {},
   "outputs": [],
   "source": []
  }
 ],
 "metadata": {
  "anaconda-cloud": {},
  "kernel_info": {
   "name": "python3"
  },
  "kernelspec": {
   "display_name": "PythonData",
   "language": "python",
   "name": "pythondata"
  },
  "language_info": {
   "codemirror_mode": {
    "name": "ipython",
    "version": 3
   },
   "file_extension": ".py",
   "mimetype": "text/x-python",
   "name": "python",
   "nbconvert_exporter": "python",
   "pygments_lexer": "ipython3",
   "version": "3.8.1"
  },
  "latex_envs": {
   "LaTeX_envs_menu_present": true,
   "autoclose": false,
   "autocomplete": true,
   "bibliofile": "biblio.bib",
   "cite_by": "apalike",
   "current_citInitial": 1,
   "eqLabelWithNumbers": true,
   "eqNumInitial": 1,
   "hotkeys": {
    "equation": "Ctrl-E",
    "itemize": "Ctrl-I"
   },
   "labels_anchors": false,
   "latex_user_defs": false,
   "report_style_numbering": false,
   "user_envs_cfg": false
  },
  "nteract": {
   "version": "0.12.3"
  }
 },
 "nbformat": 4,
 "nbformat_minor": 4
}
